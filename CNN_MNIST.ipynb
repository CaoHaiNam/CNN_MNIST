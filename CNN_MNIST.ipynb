{
  "nbformat": 4,
  "nbformat_minor": 0,
  "metadata": {
    "colab": {
      "name": "CNN_MNIST.ipynb",
      "provenance": [],
      "collapsed_sections": [],
      "authorship_tag": "ABX9TyON867OyTeosGw0gJUaAx3n",
      "include_colab_link": true
    },
    "kernelspec": {
      "name": "python3",
      "display_name": "Python 3"
    },
    "accelerator": "TPU"
  },
  "cells": [
    {
      "cell_type": "markdown",
      "metadata": {
        "id": "view-in-github",
        "colab_type": "text"
      },
      "source": [
        "<a href=\"https://colab.research.google.com/github/CaoHaiNam/CNN_MNIST/blob/master/CNN_MNIST.ipynb\" target=\"_parent\"><img src=\"https://colab.research.google.com/assets/colab-badge.svg\" alt=\"Open In Colab\"/></a>"
      ]
    },
    {
      "cell_type": "code",
      "metadata": {
        "id": "Xdvu1z_diq7E",
        "colab_type": "code",
        "colab": {}
      },
      "source": [
        "import collections\n",
        "import numpy as np\n",
        "import matplotlib.pyplot as plt\n",
        "import PIL\n",
        "import tensorflow as tf\n",
        "from tensorflow.keras.layers import Convolution2D, MaxPooling2D, Flatten, Dense"
      ],
      "execution_count": 0,
      "outputs": []
    },
    {
      "cell_type": "code",
      "metadata": {
        "id": "oO4yJzavi1QH",
        "colab_type": "code",
        "colab": {}
      },
      "source": [
        "mnist = tf.keras.datasets.mnist\n",
        "(x_train, y_train),(x_test, y_test) = mnist.load_data()"
      ],
      "execution_count": 0,
      "outputs": []
    },
    {
      "cell_type": "code",
      "metadata": {
        "id": "vkfIt0qGsU-O",
        "colab_type": "code",
        "colab": {
          "base_uri": "https://localhost:8080/",
          "height": 265
        },
        "outputId": "fbe7a337-9833-4c36-a8d4-f6d29a1e56cc"
      },
      "source": [
        "from matplotlib import pyplot as plt\n",
        "plt.imshow(x_test[0], interpolation='nearest')\n",
        "plt.show()"
      ],
      "execution_count": 21,
      "outputs": [
        {
          "output_type": "display_data",
          "data": {
            "image/png": "[encoded data removed]",
            "text/plain": [
              "<Figure size 432x288 with 1 Axes>"
            ]
          },
          "metadata": {
            "tags": [],
            "needs_background": "light"
          }
        }
      ]
    },
    {
      "cell_type": "code",
      "metadata": {
        "id": "OSRfEnKJsZku",
        "colab_type": "code",
        "colab": {
          "base_uri": "https://localhost:8080/",
          "height": 34
        },
        "outputId": "1a01a252-1802-4497-f8d3-bca8f82174c9"
      },
      "source": [
        "print(y_test[0])"
      ],
      "execution_count": 22,
      "outputs": [
        {
          "output_type": "stream",
          "text": [
            "7\n"
          ],
          "name": "stdout"
        }
      ]
    },
    {
      "cell_type": "code",
      "metadata": {
        "id": "7GEk-IlvsUBz",
        "colab_type": "code",
        "colab": {}
      },
      "source": [
        "x_train, x_test = x_train / 255.0, x_test / 255.0\n",
        "img_rows, img_cols = 28, 28\n",
        "x_train = x_train.reshape(x_train.shape[0], img_rows, img_cols, 1)\n",
        "x_test = x_test.reshape(x_test.shape[0], img_rows, img_cols, 1)\n",
        "input_shape = (img_rows, img_cols, 1)"
      ],
      "execution_count": 0,
      "outputs": []
    },
    {
      "cell_type": "code",
      "metadata": {
        "id": "Is_FeckCi5i9",
        "colab_type": "code",
        "colab": {}
      },
      "source": [
        "model = tf.keras.models.Sequential([\n",
        "     # 28x28x1\n",
        "     Convolution2D(filters=6, kernel_size=(5,5), activation = 'relu', input_shape=input_shape),\n",
        "     # 24x24x6\n",
        "     MaxPooling2D(pool_size=(2, 2)),\n",
        "     # 12x12x6\n",
        "     Convolution2D(filters=16, kernel_size=(5,5), activation = 'relu'),\n",
        "     # 8x8x16\n",
        "     MaxPooling2D(pool_size=(2, 2)),\n",
        "     # 4x4x16\n",
        "     Flatten(),\n",
        "     Dense(128, activation = 'relu'),\n",
        "     Dense(84, activation = 'relu'),\n",
        "     Dense(10, activation=tf.nn.softmax)])"
      ],
      "execution_count": 0,
      "outputs": []
    },
    {
      "cell_type": "code",
      "metadata": {
        "id": "-Pp7PN3Ji9yp",
        "colab_type": "code",
        "colab": {}
      },
      "source": [
        "model.summary()"
      ],
      "execution_count": 0,
      "outputs": []
    },
    {
      "cell_type": "code",
      "metadata": {
        "id": "Ms7-K3NLjBBT",
        "colab_type": "code",
        "colab": {
          "base_uri": "https://localhost:8080/",
          "height": 1000
        },
        "outputId": "8a2cbdaf-0422-4d20-a8f7-87abc3a4a6a9"
      },
      "source": [
        "model.compile(optimizer='adam', loss='sparse_categorical_crossentropy', metrics=['accuracy'])\n",
        "history = model.fit(x_train, y_train, batch_size=32, validation_split=0.2, epochs=30, verbose=1)"
      ],
      "execution_count": 7,
      "outputs": [
        {
          "output_type": "stream",
          "text": [
            "Epoch 1/30\n",
            "1500/1500 [==============================] - 25s 17ms/step - loss: 0.0068 - accuracy: 0.9984 - val_loss: 0.1155 - val_accuracy: 0.9862\n",
            "Epoch 2/30\n",
            "1500/1500 [==============================] - 25s 17ms/step - loss: 0.0042 - accuracy: 0.9989 - val_loss: 0.0904 - val_accuracy: 0.9898\n",
            "Epoch 3/30\n",
            "1500/1500 [==============================] - 25s 17ms/step - loss: 0.0056 - accuracy: 0.9986 - val_loss: 0.1056 - val_accuracy: 0.9866\n",
            "Epoch 4/30\n",
            "1500/1500 [==============================] - 25s 17ms/step - loss: 0.0039 - accuracy: 0.9988 - val_loss: 0.1141 - val_accuracy: 0.9883\n",
            "Epoch 5/30\n",
            "1500/1500 [==============================] - 25s 17ms/step - loss: 0.0056 - accuracy: 0.9985 - val_loss: 0.0973 - val_accuracy: 0.9886\n",
            "Epoch 6/30\n",
            "1500/1500 [==============================] - 25s 17ms/step - loss: 0.0059 - accuracy: 0.9986 - val_loss: 0.1038 - val_accuracy: 0.9883\n",
            "Epoch 7/30\n",
            "1500/1500 [==============================] - 25s 17ms/step - loss: 0.0039 - accuracy: 0.9988 - val_loss: 0.0928 - val_accuracy: 0.9880\n",
            "Epoch 8/30\n",
            "1500/1500 [==============================] - 25s 17ms/step - loss: 0.0061 - accuracy: 0.9986 - val_loss: 0.0933 - val_accuracy: 0.9893\n",
            "Epoch 9/30\n",
            "1500/1500 [==============================] - 25s 17ms/step - loss: 0.0043 - accuracy: 0.9989 - val_loss: 0.0962 - val_accuracy: 0.9888\n",
            "Epoch 10/30\n",
            "1500/1500 [==============================] - 25s 17ms/step - loss: 0.0049 - accuracy: 0.9986 - val_loss: 0.0987 - val_accuracy: 0.9888\n",
            "Epoch 11/30\n",
            "1500/1500 [==============================] - 25s 17ms/step - loss: 0.0043 - accuracy: 0.9990 - val_loss: 0.1223 - val_accuracy: 0.9865\n",
            "Epoch 12/30\n",
            "1500/1500 [==============================] - 26s 17ms/step - loss: 0.0055 - accuracy: 0.9986 - val_loss: 0.0910 - val_accuracy: 0.9899\n",
            "Epoch 13/30\n",
            "1500/1500 [==============================] - 26s 17ms/step - loss: 0.0030 - accuracy: 0.9991 - val_loss: 0.1011 - val_accuracy: 0.9870\n",
            "Epoch 14/30\n",
            "1500/1500 [==============================] - 25s 17ms/step - loss: 0.0059 - accuracy: 0.9984 - val_loss: 0.1197 - val_accuracy: 0.9870\n",
            "Epoch 15/30\n",
            "1500/1500 [==============================] - 25s 17ms/step - loss: 0.0054 - accuracy: 0.9987 - val_loss: 0.1136 - val_accuracy: 0.9877\n",
            "Epoch 16/30\n",
            "1500/1500 [==============================] - 26s 17ms/step - loss: 0.0021 - accuracy: 0.9995 - val_loss: 0.1302 - val_accuracy: 0.9864\n",
            "Epoch 17/30\n",
            "1500/1500 [==============================] - 26s 17ms/step - loss: 0.0072 - accuracy: 0.9986 - val_loss: 0.1032 - val_accuracy: 0.9883\n",
            "Epoch 18/30\n",
            "1500/1500 [==============================] - 25s 17ms/step - loss: 0.0043 - accuracy: 0.9990 - val_loss: 0.0933 - val_accuracy: 0.9885\n",
            "Epoch 19/30\n",
            "1500/1500 [==============================] - 25s 17ms/step - loss: 0.0046 - accuracy: 0.9988 - val_loss: 0.1011 - val_accuracy: 0.9894\n",
            "Epoch 20/30\n",
            "1500/1500 [==============================] - 25s 17ms/step - loss: 0.0020 - accuracy: 0.9993 - val_loss: 0.0906 - val_accuracy: 0.9896\n",
            "Epoch 21/30\n",
            "1500/1500 [==============================] - 25s 17ms/step - loss: 8.3180e-04 - accuracy: 0.9997 - val_loss: 0.1117 - val_accuracy: 0.9888\n",
            "Epoch 22/30\n",
            "1500/1500 [==============================] - 25s 17ms/step - loss: 0.0076 - accuracy: 0.9981 - val_loss: 0.1111 - val_accuracy: 0.9885\n",
            "Epoch 23/30\n",
            "1500/1500 [==============================] - 25s 17ms/step - loss: 0.0033 - accuracy: 0.9991 - val_loss: 0.1001 - val_accuracy: 0.9898\n",
            "Epoch 24/30\n",
            "1500/1500 [==============================] - 25s 17ms/step - loss: 0.0014 - accuracy: 0.9996 - val_loss: 0.1339 - val_accuracy: 0.9872\n",
            "Epoch 25/30\n",
            "1500/1500 [==============================] - 26s 17ms/step - loss: 0.0065 - accuracy: 0.9986 - val_loss: 0.1061 - val_accuracy: 0.9893\n",
            "Epoch 26/30\n",
            "1500/1500 [==============================] - 26s 17ms/step - loss: 0.0039 - accuracy: 0.9992 - val_loss: 0.1099 - val_accuracy: 0.9892\n",
            "Epoch 27/30\n",
            "1500/1500 [==============================] - 25s 17ms/step - loss: 0.0057 - accuracy: 0.9985 - val_loss: 0.1073 - val_accuracy: 0.9885\n",
            "Epoch 28/30\n",
            "1500/1500 [==============================] - 25s 17ms/step - loss: 0.0046 - accuracy: 0.9990 - val_loss: 0.0918 - val_accuracy: 0.9905\n",
            "Epoch 29/30\n",
            "1500/1500 [==============================] - 25s 17ms/step - loss: 0.0017 - accuracy: 0.9996 - val_loss: 0.1104 - val_accuracy: 0.9887\n",
            "Epoch 30/30\n",
            "1500/1500 [==============================] - 25s 17ms/step - loss: 0.0032 - accuracy: 0.9992 - val_loss: 0.1174 - val_accuracy: 0.9893\n"
          ],
          "name": "stdout"
        }
      ]
    },
    {
      "cell_type": "code",
      "metadata": {
        "id": "MmSvm4FDjsEW",
        "colab_type": "code",
        "colab": {
          "base_uri": "https://localhost:8080/",
          "height": 102
        },
        "outputId": "46105ab5-fea5-47e8-d3e7-d1096161ac14"
      },
      "source": [
        "print(model.metrics_names)\n",
        "print(model.evaluate(x_train, y_train, verbose=2))\n",
        "print(model.evaluate(x_test, y_test, verbose=2))"
      ],
      "execution_count": 8,
      "outputs": [
        {
          "output_type": "stream",
          "text": [
            "['loss', 'accuracy']\n",
            "1875/1875 - 13s - loss: 0.0255 - accuracy: 0.9974\n",
            "[0.025498028844594955, 0.9973999857902527]\n",
            "313/313 - 2s - loss: 0.1107 - accuracy: 0.9898\n",
            "[0.11066708713769913, 0.989799976348877]\n"
          ],
          "name": "stdout"
        }
      ]
    },
    {
      "cell_type": "code",
      "metadata": {
        "id": "IccXAgHMsv5Y",
        "colab_type": "code",
        "colab": {
          "base_uri": "https://localhost:8080/",
          "height": 34
        },
        "outputId": "a0947327-0c52-43c7-b4dd-aadde0270fa9"
      },
      "source": [
        "print(x_test[0].shape)"
      ],
      "execution_count": 28,
      "outputs": [
        {
          "output_type": "stream",
          "text": [
            "(28, 28, 1)\n"
          ],
          "name": "stdout"
        }
      ]
    },
    {
      "cell_type": "code",
      "metadata": {
        "id": "EwIgNDdKsfN1",
        "colab_type": "code",
        "colab": {
          "base_uri": "https://localhost:8080/",
          "height": 238
        },
        "outputId": "df439bbe-e792-4a41-c1de-5778dbcaf61c"
      },
      "source": [
        "model.predict(x_test)"
      ],
      "execution_count": 31,
      "outputs": [
        {
          "output_type": "execute_result",
          "data": {
            "text/plain": [
              "array([[2.9934834e-26, 9.1585394e-24, 2.4832455e-20, ..., 1.0000000e+00,\n",
              "        6.1519247e-30, 1.2681399e-18],\n",
              "       [5.2206897e-31, 1.4523540e-35, 1.0000000e+00, ..., 1.5050493e-29,\n",
              "        3.5567802e-31, 2.1452029e-36],\n",
              "       [5.6334526e-21, 1.0000000e+00, 1.1818256e-16, ..., 3.0678691e-15,\n",
              "        5.0286690e-13, 2.6077587e-25],\n",
              "       ...,\n",
              "       [0.0000000e+00, 0.0000000e+00, 0.0000000e+00, ..., 0.0000000e+00,\n",
              "        0.0000000e+00, 0.0000000e+00],\n",
              "       [1.4129053e-26, 0.0000000e+00, 2.4260266e-35, ..., 2.2450852e-36,\n",
              "        1.0149113e-30, 1.3123867e-29],\n",
              "       [3.5271424e-20, 0.0000000e+00, 7.3782585e-33, ..., 0.0000000e+00,\n",
              "        5.6607825e-31, 0.0000000e+00]], dtype=float32)"
            ]
          },
          "metadata": {
            "tags": []
          },
          "execution_count": 31
        }
      ]
    }
  ]
}