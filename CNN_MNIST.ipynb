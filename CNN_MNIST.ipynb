{
  "nbformat": 4,
  "nbformat_minor": 0,
  "metadata": {
    "colab": {
      "name": "CNN_MNIST.ipynb",
      "provenance": [],
      "collapsed_sections": [],
      "authorship_tag": "ABX9TyO5XCq5pT47bVpm/c6gq44o",
      "include_colab_link": true
    },
    "kernelspec": {
      "name": "python3",
      "display_name": "Python 3"
    },
    "accelerator": "TPU"
  },
  "cells": [
    {
      "cell_type": "markdown",
      "metadata": {
        "id": "view-in-github",
        "colab_type": "text"
      },
      "source": [
        "<a href=\"https://colab.research.google.com/github/CaoHaiNam/CNN_MNIST/blob/master/CNN_MNIST.ipynb\" target=\"_parent\"><img src=\"https://colab.research.google.com/assets/colab-badge.svg\" alt=\"Open In Colab\"/></a>"
      ]
    },
    {
      "cell_type": "code",
      "metadata": {
        "id": "Xdvu1z_diq7E",
        "colab_type": "code",
        "colab": {}
      },
      "source": [
        "import collections\n",
        "import numpy as np\n",
        "import matplotlib.pyplot as plt\n",
        "import PIL\n",
        "import tensorflow as tf\n",
        "from tensorflow.keras.layers import Convolution2D, MaxPooling2D, Flatten, Dense"
      ],
      "execution_count": 0,
      "outputs": []
    },
    {
      "cell_type": "code",
      "metadata": {
        "id": "oO4yJzavi1QH",
        "colab_type": "code",
        "colab": {
          "base_uri": "https://localhost:8080/",
          "height": 51
        },
        "outputId": "061fe6aa-e02d-4416-95b1-18b9efd6b9cd"
      },
      "source": [
        "mnist = tf.keras.datasets.mnist\n",
        "(x_train, y_train),(x_test, y_test) = mnist.load_data()"
      ],
      "execution_count": 3,
      "outputs": [
        {
          "output_type": "stream",
          "text": [
            "Downloading data from https://storage.googleapis.com/tensorflow/tf-keras-datasets/mnist.npz\n",
            "11493376/11490434 [==============================] - 0s 0us/step\n"
          ],
          "name": "stdout"
        }
      ]
    },
    {
      "cell_type": "code",
      "metadata": {
        "id": "vkfIt0qGsU-O",
        "colab_type": "code",
        "outputId": "6a6d25c0-f6da-4d10-b343-c0927a18b1d5",
        "colab": {
          "base_uri": "https://localhost:8080/",
          "height": 265
        }
      },
      "source": [
        "from matplotlib import pyplot as plt\n",
        "plt.imshow(x_test[0], interpolation='nearest')\n",
        "plt.show()"
      ],
      "execution_count": 4,
      "outputs": [
        {
          "output_type": "display_data",
          "data": {
            "image/png": "[encoded data removed]",
            "text/plain": [
              "<Figure size 432x288 with 1 Axes>"
            ]
          },
          "metadata": {
            "tags": [],
            "needs_background": "light"
          }
        }
      ]
    },
    {
      "cell_type": "code",
      "metadata": {
        "id": "OSRfEnKJsZku",
        "colab_type": "code",
        "outputId": "f5d24191-47b6-4c04-93b9-f1e61ed17ca9",
        "colab": {
          "base_uri": "https://localhost:8080/",
          "height": 34
        }
      },
      "source": [
        "print(y_test[0])"
      ],
      "execution_count": 5,
      "outputs": [
        {
          "output_type": "stream",
          "text": [
            "7\n"
          ],
          "name": "stdout"
        }
      ]
    },
    {
      "cell_type": "code",
      "metadata": {
        "id": "7GEk-IlvsUBz",
        "colab_type": "code",
        "colab": {}
      },
      "source": [
        "x_train, x_test = x_train / 255.0, x_test / 255.0\n",
        "img_rows, img_cols = 28, 28\n",
        "x_train = x_train.reshape(x_train.shape[0], img_rows, img_cols, 1)\n",
        "x_test = x_test.reshape(x_test.shape[0], img_rows, img_cols, 1)\n",
        "input_shape = (img_rows, img_cols, 1)"
      ],
      "execution_count": 0,
      "outputs": []
    },
    {
      "cell_type": "code",
      "metadata": {
        "id": "Is_FeckCi5i9",
        "colab_type": "code",
        "colab": {}
      },
      "source": [
        "model = tf.keras.models.Sequential([\n",
        "     # 28x28x1\n",
        "     Convolution2D(filters=6, kernel_size=(5,5), activation = 'relu', input_shape=input_shape),\n",
        "     # 24x24x6\n",
        "     MaxPooling2D(pool_size=(2, 2)),\n",
        "     # 12x12x6\n",
        "     Convolution2D(filters=16, kernel_size=(5,5), activation = 'relu'),\n",
        "     # 8x8x16\n",
        "     MaxPooling2D(pool_size=(2, 2)),\n",
        "     # 4x4x16\n",
        "     Flatten(),\n",
        "     Dense(128, activation = 'relu'),\n",
        "     Dense(84, activation = 'relu'),\n",
        "     Dense(10, activation=tf.nn.softmax)])"
      ],
      "execution_count": 0,
      "outputs": []
    },
    {
      "cell_type": "code",
      "metadata": {
        "id": "-Pp7PN3Ji9yp",
        "colab_type": "code",
        "colab": {
          "base_uri": "https://localhost:8080/",
          "height": 425
        },
        "outputId": "3e725730-f42d-475d-f899-56709e73b595"
      },
      "source": [
        "model.summary()"
      ],
      "execution_count": 8,
      "outputs": [
        {
          "output_type": "stream",
          "text": [
            "Model: \"sequential\"\n",
            "_________________________________________________________________\n",
            "Layer (type)                 Output Shape              Param #   \n",
            "=================================================================\n",
            "conv2d (Conv2D)              (None, 24, 24, 6)         156       \n",
            "_________________________________________________________________\n",
            "max_pooling2d (MaxPooling2D) (None, 12, 12, 6)         0         \n",
            "_________________________________________________________________\n",
            "conv2d_1 (Conv2D)            (None, 8, 8, 16)          2416      \n",
            "_________________________________________________________________\n",
            "max_pooling2d_1 (MaxPooling2 (None, 4, 4, 16)          0         \n",
            "_________________________________________________________________\n",
            "flatten (Flatten)            (None, 256)               0         \n",
            "_________________________________________________________________\n",
            "dense (Dense)                (None, 128)               32896     \n",
            "_________________________________________________________________\n",
            "dense_1 (Dense)              (None, 84)                10836     \n",
            "_________________________________________________________________\n",
            "dense_2 (Dense)              (None, 10)                850       \n",
            "=================================================================\n",
            "Total params: 47,154\n",
            "Trainable params: 47,154\n",
            "Non-trainable params: 0\n",
            "_________________________________________________________________\n"
          ],
          "name": "stdout"
        }
      ]
    },
    {
      "cell_type": "code",
      "metadata": {
        "id": "Ms7-K3NLjBBT",
        "colab_type": "code",
        "outputId": "654b3866-0187-4f74-fab4-aa4c8564b949",
        "colab": {
          "base_uri": "https://localhost:8080/",
          "height": 1000
        }
      },
      "source": [
        "model.compile(optimizer='adam', loss='sparse_categorical_crossentropy', metrics=['accuracy'])\n",
        "history = model.fit(x_train, y_train, batch_size=32, validation_split=0.2, epochs=30, verbose=1)"
      ],
      "execution_count": 9,
      "outputs": [
        {
          "output_type": "stream",
          "text": [
            "Epoch 1/30\n",
            "1500/1500 [==============================] - 26s 17ms/step - loss: 0.2037 - accuracy: 0.9395 - val_loss: 0.0963 - val_accuracy: 0.9712\n",
            "Epoch 2/30\n",
            "1500/1500 [==============================] - 24s 16ms/step - loss: 0.0648 - accuracy: 0.9802 - val_loss: 0.0668 - val_accuracy: 0.9806\n",
            "Epoch 3/30\n",
            "1500/1500 [==============================] - 25s 16ms/step - loss: 0.0461 - accuracy: 0.9861 - val_loss: 0.0483 - val_accuracy: 0.9858\n",
            "Epoch 4/30\n",
            "1500/1500 [==============================] - 24s 16ms/step - loss: 0.0372 - accuracy: 0.9884 - val_loss: 0.0484 - val_accuracy: 0.9856\n",
            "Epoch 5/30\n",
            "1500/1500 [==============================] - 25s 17ms/step - loss: 0.0306 - accuracy: 0.9902 - val_loss: 0.0465 - val_accuracy: 0.9863\n",
            "Epoch 6/30\n",
            "1500/1500 [==============================] - 25s 17ms/step - loss: 0.0255 - accuracy: 0.9916 - val_loss: 0.0446 - val_accuracy: 0.9872\n",
            "Epoch 7/30\n",
            "1500/1500 [==============================] - 25s 17ms/step - loss: 0.0220 - accuracy: 0.9930 - val_loss: 0.0550 - val_accuracy: 0.9862\n",
            "Epoch 8/30\n",
            "1500/1500 [==============================] - 25s 17ms/step - loss: 0.0192 - accuracy: 0.9938 - val_loss: 0.0465 - val_accuracy: 0.9872\n",
            "Epoch 9/30\n",
            "1500/1500 [==============================] - 25s 17ms/step - loss: 0.0165 - accuracy: 0.9941 - val_loss: 0.0488 - val_accuracy: 0.9880\n",
            "Epoch 10/30\n",
            "1500/1500 [==============================] - 26s 17ms/step - loss: 0.0146 - accuracy: 0.9951 - val_loss: 0.0538 - val_accuracy: 0.9877\n",
            "Epoch 11/30\n",
            "1500/1500 [==============================] - 30s 20ms/step - loss: 0.0134 - accuracy: 0.9954 - val_loss: 0.0518 - val_accuracy: 0.9901\n",
            "Epoch 12/30\n",
            "1500/1500 [==============================] - 25s 17ms/step - loss: 0.0111 - accuracy: 0.9964 - val_loss: 0.0654 - val_accuracy: 0.9856\n",
            "Epoch 13/30\n",
            "1500/1500 [==============================] - 26s 17ms/step - loss: 0.0117 - accuracy: 0.9962 - val_loss: 0.0675 - val_accuracy: 0.9874\n",
            "Epoch 14/30\n",
            "1500/1500 [==============================] - 25s 17ms/step - loss: 0.0123 - accuracy: 0.9959 - val_loss: 0.0592 - val_accuracy: 0.9875\n",
            "Epoch 15/30\n",
            "1500/1500 [==============================] - 25s 17ms/step - loss: 0.0081 - accuracy: 0.9973 - val_loss: 0.0630 - val_accuracy: 0.9877\n",
            "Epoch 16/30\n",
            "1500/1500 [==============================] - 25s 17ms/step - loss: 0.0106 - accuracy: 0.9965 - val_loss: 0.0626 - val_accuracy: 0.9863\n",
            "Epoch 17/30\n",
            "1500/1500 [==============================] - 26s 17ms/step - loss: 0.0086 - accuracy: 0.9970 - val_loss: 0.0567 - val_accuracy: 0.9877\n",
            "Epoch 18/30\n",
            "1500/1500 [==============================] - 26s 17ms/step - loss: 0.0070 - accuracy: 0.9977 - val_loss: 0.0592 - val_accuracy: 0.9882\n",
            "Epoch 19/30\n",
            "1500/1500 [==============================] - 25s 17ms/step - loss: 0.0086 - accuracy: 0.9972 - val_loss: 0.0610 - val_accuracy: 0.9890\n",
            "Epoch 20/30\n",
            "1500/1500 [==============================] - 25s 17ms/step - loss: 0.0085 - accuracy: 0.9978 - val_loss: 0.0622 - val_accuracy: 0.9881\n",
            "Epoch 21/30\n",
            "1500/1500 [==============================] - 26s 17ms/step - loss: 0.0073 - accuracy: 0.9978 - val_loss: 0.0638 - val_accuracy: 0.9884\n",
            "Epoch 22/30\n",
            "1500/1500 [==============================] - 26s 17ms/step - loss: 0.0068 - accuracy: 0.9978 - val_loss: 0.0660 - val_accuracy: 0.9880\n",
            "Epoch 23/30\n",
            "1500/1500 [==============================] - 26s 17ms/step - loss: 0.0073 - accuracy: 0.9980 - val_loss: 0.0808 - val_accuracy: 0.9867\n",
            "Epoch 24/30\n",
            "1500/1500 [==============================] - 26s 17ms/step - loss: 0.0066 - accuracy: 0.9979 - val_loss: 0.0776 - val_accuracy: 0.9874\n",
            "Epoch 25/30\n",
            "1500/1500 [==============================] - 26s 17ms/step - loss: 0.0072 - accuracy: 0.9976 - val_loss: 0.0605 - val_accuracy: 0.9902\n",
            "Epoch 26/30\n",
            "1500/1500 [==============================] - 26s 17ms/step - loss: 0.0043 - accuracy: 0.9989 - val_loss: 0.0922 - val_accuracy: 0.9863\n",
            "Epoch 27/30\n",
            "1500/1500 [==============================] - 26s 17ms/step - loss: 0.0058 - accuracy: 0.9981 - val_loss: 0.0724 - val_accuracy: 0.9885\n",
            "Epoch 28/30\n",
            "1500/1500 [==============================] - 26s 17ms/step - loss: 0.0074 - accuracy: 0.9977 - val_loss: 0.0696 - val_accuracy: 0.9899\n",
            "Epoch 29/30\n",
            "1500/1500 [==============================] - 26s 17ms/step - loss: 0.0063 - accuracy: 0.9982 - val_loss: 0.0672 - val_accuracy: 0.9882\n",
            "Epoch 30/30\n",
            "1500/1500 [==============================] - 26s 17ms/step - loss: 0.0063 - accuracy: 0.9980 - val_loss: 0.0757 - val_accuracy: 0.9878\n"
          ],
          "name": "stdout"
        }
      ]
    },
    {
      "cell_type": "code",
      "metadata": {
        "id": "MmSvm4FDjsEW",
        "colab_type": "code",
        "outputId": "46105ab5-fea5-47e8-d3e7-d1096161ac14",
        "colab": {
          "base_uri": "https://localhost:8080/",
          "height": 102
        }
      },
      "source": [
        "print(model.metrics_names)\n",
        "print(model.evaluate(x_train, y_train, verbose=2))\n",
        "print(model.evaluate(x_test, y_test, verbose=2))"
      ],
      "execution_count": 0,
      "outputs": [
        {
          "output_type": "stream",
          "text": [
            "['loss', 'accuracy']\n",
            "1875/1875 - 13s - loss: 0.0255 - accuracy: 0.9974\n",
            "[0.025498028844594955, 0.9973999857902527]\n",
            "313/313 - 2s - loss: 0.1107 - accuracy: 0.9898\n",
            "[0.11066708713769913, 0.989799976348877]\n"
          ],
          "name": "stdout"
        }
      ]
    },
    {
      "cell_type": "code",
      "metadata": {
        "id": "IccXAgHMsv5Y",
        "colab_type": "code",
        "outputId": "d5ff44c7-48ae-41ae-8760-534235010187",
        "colab": {
          "base_uri": "https://localhost:8080/",
          "height": 34
        }
      },
      "source": [
        "print(x_test[0].shape)"
      ],
      "execution_count": 10,
      "outputs": [
        {
          "output_type": "stream",
          "text": [
            "(28, 28, 1)\n"
          ],
          "name": "stdout"
        }
      ]
    },
    {
      "cell_type": "code",
      "metadata": {
        "id": "EwIgNDdKsfN1",
        "colab_type": "code",
        "colab": {}
      },
      "source": [
        "result = model.predict(x_test)"
      ],
      "execution_count": 0,
      "outputs": []
    },
    {
      "cell_type": "code",
      "metadata": {
        "id": "SwPfkTGmy5pg",
        "colab_type": "code",
        "colab": {
          "base_uri": "https://localhost:8080/",
          "height": 34
        },
        "outputId": "d11bd8df-e395-469c-db65-ef0855fe8ee9"
      },
      "source": [
        "print(np.argmax(result[0]))"
      ],
      "execution_count": 12,
      "outputs": [
        {
          "output_type": "stream",
          "text": [
            "7\n"
          ],
          "name": "stdout"
        }
      ]
    }
  ]
}